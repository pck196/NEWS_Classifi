{
  "nbformat": 4,
  "nbformat_minor": 0,
  "metadata": {
    "anaconda-cloud": {},
    "kernelspec": {
      "display_name": "Python 3",
      "language": "python",
      "name": "python3"
    },
    "language_info": {
      "codemirror_mode": {
        "name": "ipython",
        "version": 3
      },
      "file_extension": ".py",
      "mimetype": "text/x-python",
      "name": "python",
      "nbconvert_exporter": "python",
      "pygments_lexer": "ipython3",
      "version": "3.6.5"
    },
    "colab": {
      "name": "NEWS_Category_Analysis(NLP).ipynb",
      "provenance": [],
      "collapsed_sections": []
    }
  },
  "cells": [
    {
      "cell_type": "markdown",
      "metadata": {
        "id": "KeAfesPhvKEt"
      },
      "source": [
        "# Load and View Dataset"
      ]
    },
    {
      "cell_type": "code",
      "metadata": {
        "id": "yz5iEWEo4dv1"
      },
      "source": [
        "import numpy as np\n",
        "import pandas as pd\n",
        "import matplotlib.pyplot as plt\n",
        "from sklearn import metrics"
      ],
      "execution_count": 1,
      "outputs": []
    },
    {
      "cell_type": "code",
      "metadata": {
        "id": "MIcc7G3dvKE7",
        "outputId": "d482aaab-6fad-4523-870a-d3ee0ce2cdb3",
        "colab": {
          "base_uri": "https://localhost:8080/",
          "height": 186
        }
      },
      "source": [
        "data_url=\"https://raw.githubusercontent.com/pck196/dataforproject/master/news-data.csv\"\n",
        "dataset = pd.read_csv(data_url)\n",
        "dataset.info()"
      ],
      "execution_count": 2,
      "outputs": [
        {
          "output_type": "stream",
          "text": [
            "<class 'pandas.core.frame.DataFrame'>\n",
            "RangeIndex: 2225 entries, 0 to 2224\n",
            "Data columns (total 2 columns):\n",
            " #   Column    Non-Null Count  Dtype \n",
            "---  ------    --------------  ----- \n",
            " 0   category  2225 non-null   object\n",
            " 1   text      2225 non-null   object\n",
            "dtypes: object(2)\n",
            "memory usage: 34.9+ KB\n"
          ],
          "name": "stdout"
        }
      ]
    },
    {
      "cell_type": "code",
      "metadata": {
        "id": "ICZnhtIrvKFR",
        "outputId": "feca73d7-d4e6-4de4-af5d-6df2955f9873",
        "colab": {
          "base_uri": "https://localhost:8080/",
          "height": 206
        }
      },
      "source": [
        "dataset.head()"
      ],
      "execution_count": 3,
      "outputs": [
        {
          "output_type": "execute_result",
          "data": {
            "text/html": [
              "<div>\n",
              "<style scoped>\n",
              "    .dataframe tbody tr th:only-of-type {\n",
              "        vertical-align: middle;\n",
              "    }\n",
              "\n",
              "    .dataframe tbody tr th {\n",
              "        vertical-align: top;\n",
              "    }\n",
              "\n",
              "    .dataframe thead th {\n",
              "        text-align: right;\n",
              "    }\n",
              "</style>\n",
              "<table border=\"1\" class=\"dataframe\">\n",
              "  <thead>\n",
              "    <tr style=\"text-align: right;\">\n",
              "      <th></th>\n",
              "      <th>category</th>\n",
              "      <th>text</th>\n",
              "    </tr>\n",
              "  </thead>\n",
              "  <tbody>\n",
              "    <tr>\n",
              "      <th>0</th>\n",
              "      <td>tech</td>\n",
              "      <td>tv future in the hands of viewers with home th...</td>\n",
              "    </tr>\n",
              "    <tr>\n",
              "      <th>1</th>\n",
              "      <td>business</td>\n",
              "      <td>worldcom boss  left books alone  former worldc...</td>\n",
              "    </tr>\n",
              "    <tr>\n",
              "      <th>2</th>\n",
              "      <td>sport</td>\n",
              "      <td>tigers wary of farrell  gamble  leicester say ...</td>\n",
              "    </tr>\n",
              "    <tr>\n",
              "      <th>3</th>\n",
              "      <td>sport</td>\n",
              "      <td>yeading face newcastle in fa cup premiership s...</td>\n",
              "    </tr>\n",
              "    <tr>\n",
              "      <th>4</th>\n",
              "      <td>entertainment</td>\n",
              "      <td>ocean s twelve raids box office ocean s twelve...</td>\n",
              "    </tr>\n",
              "  </tbody>\n",
              "</table>\n",
              "</div>"
            ],
            "text/plain": [
              "        category                                               text\n",
              "0           tech  tv future in the hands of viewers with home th...\n",
              "1       business  worldcom boss  left books alone  former worldc...\n",
              "2          sport  tigers wary of farrell  gamble  leicester say ...\n",
              "3          sport  yeading face newcastle in fa cup premiership s...\n",
              "4  entertainment  ocean s twelve raids box office ocean s twelve..."
            ]
          },
          "metadata": {
            "tags": []
          },
          "execution_count": 3
        }
      ]
    },
    {
      "cell_type": "markdown",
      "metadata": {
        "id": "r_d-c4ZvvKFj"
      },
      "source": [
        "# Build Train and Test Datasets"
      ]
    },
    {
      "cell_type": "code",
      "metadata": {
        "id": "QHjZqTkzvKFo"
      },
      "source": [
        "# build train and test datasets\n",
        "txtdt = dataset['text'].values\n",
        "category = dataset['category'].values\n",
        "\n",
        "train_txtdt = txtdt[:1560]\n",
        "train_category = category[:1560]\n",
        "\n",
        "test_txtdt = txtdt[1560:]\n",
        "test_category = category[1560:]"
      ],
      "execution_count": 4,
      "outputs": []
    },
    {
      "cell_type": "markdown",
      "metadata": {
        "id": "-YNtNAYq5pXS"
      },
      "source": [
        "# Data Visualization"
      ]
    },
    {
      "cell_type": "code",
      "metadata": {
        "id": "k5wCnoD4FjeW",
        "outputId": "4580aa4c-98dc-48f6-c4a4-a6af43f232ab",
        "colab": {
          "base_uri": "https://localhost:8080/",
          "height": 36
        }
      },
      "source": [
        "uniq_categories=set(train_category)\n",
        "uniq_categories"
      ],
      "execution_count": 5,
      "outputs": [
        {
          "output_type": "execute_result",
          "data": {
            "text/plain": [
              "{'business', 'entertainment', 'politics', 'sport', 'tech'}"
            ]
          },
          "metadata": {
            "tags": []
          },
          "execution_count": 5
        }
      ]
    },
    {
      "cell_type": "code",
      "metadata": {
        "id": "Q8_PGZtV9m0R",
        "outputId": "f35d52c6-06d0-43fb-c1d5-e7a04f113621",
        "colab": {
          "base_uri": "https://localhost:8080/",
          "height": 242
        }
      },
      "source": [
        "cat_values=[]\n",
        "cat_lables=[]\n",
        "lst_cat=list(train_category)\n",
        "\n",
        "for catg in uniq_categories:\n",
        "  cnt=0\n",
        "  cnt=lst_cat.count(catg)\n",
        "  print(catg)\n",
        "  print(cnt)\n",
        "  cat_lables.append(catg)\n",
        "  cat_values.append(cnt)\n",
        "\n",
        "print(cat_lables)\n",
        "print(cat_values)\n"
      ],
      "execution_count": 6,
      "outputs": [
        {
          "output_type": "stream",
          "text": [
            "politics\n",
            "288\n",
            "entertainment\n",
            "280\n",
            "sport\n",
            "354\n",
            "tech\n",
            "275\n",
            "business\n",
            "363\n",
            "['politics', 'entertainment', 'sport', 'tech', 'business']\n",
            "[288, 280, 354, 275, 363]\n"
          ],
          "name": "stdout"
        }
      ]
    },
    {
      "cell_type": "code",
      "metadata": {
        "id": "-T31zSMb-ywi",
        "outputId": "4e4461d1-1ec3-4f2f-9507-4f38fc7e8d98",
        "colab": {
          "base_uri": "https://localhost:8080/",
          "height": 411
        }
      },
      "source": [
        "# Creating pie plot \n",
        "fig = plt.figure(figsize =(10, 7)) \n",
        "plt.pie(cat_values, labels = cat_lables,autopct='%1.1f%%')\n",
        "plt.show() "
      ],
      "execution_count": 7,
      "outputs": [
        {
          "output_type": "display_data",
          "data": {
            "image/png": "[encoded data removed]",
            "text/plain": [
              "<Figure size 720x504 with 1 Axes>"
            ]
          },
          "metadata": {
            "tags": []
          }
        }
      ]
    },
    {
      "cell_type": "markdown",
      "metadata": {
        "id": "CoylZf4tvKF3"
      },
      "source": [
        "# Text Wrangling & Normalization"
      ]
    },
    {
      "cell_type": "code",
      "metadata": {
        "id": "r77jc3Lb1-eF",
        "outputId": "dcbc4662-44a8-41d5-fea4-a7dbdda14eab",
        "colab": {
          "base_uri": "https://localhost:8080/",
          "height": 186
        }
      },
      "source": [
        "!pip install contractions\n",
        "import nltk\n",
        "import unicodedata\n",
        "import re\n",
        "nltk.download('stopwords')\n",
        "nltk.download('punkt')"
      ],
      "execution_count": 8,
      "outputs": [
        {
          "output_type": "stream",
          "text": [
            "Requirement already satisfied: contractions in /usr/local/lib/python3.6/dist-packages (0.0.25)\n",
            "Requirement already satisfied: textsearch in /usr/local/lib/python3.6/dist-packages (from contractions) (0.0.17)\n",
            "Requirement already satisfied: Unidecode in /usr/local/lib/python3.6/dist-packages (from textsearch->contractions) (1.1.1)\n",
            "Requirement already satisfied: pyahocorasick in /usr/local/lib/python3.6/dist-packages (from textsearch->contractions) (1.4.0)\n",
            "[nltk_data] Downloading package stopwords to /root/nltk_data...\n",
            "[nltk_data]   Package stopwords is already up-to-date!\n",
            "[nltk_data] Downloading package punkt to /root/nltk_data...\n",
            "[nltk_data]   Package punkt is already up-to-date!\n"
          ],
          "name": "stdout"
        },
        {
          "output_type": "execute_result",
          "data": {
            "text/plain": [
              "True"
            ]
          },
          "metadata": {
            "tags": []
          },
          "execution_count": 8
        }
      ]
    },
    {
      "cell_type": "code",
      "metadata": {
        "id": "Uo6zxqfwvKF8"
      },
      "source": [
        "import contractions\n",
        "\n",
        "ps = nltk.porter.PorterStemmer()\n",
        "stop_words = nltk.corpus.stopwords.words('english')\n",
        "\n",
        "def expand_contractions(text):\n",
        "    return contractions.fix(text)\n",
        "\n",
        "\n",
        "def simple_stemming(text, stemmer=ps):\n",
        "    text = ' '.join([stemmer.stem(word) for word in text.split()])\n",
        "    return text\n",
        "\n",
        "\n",
        "def remove_stopwords(text, is_lower_case=False, stopwords=None):\n",
        "    if not stopwords:\n",
        "        stopwords = nltk.corpus.stopwords.words('english')\n",
        "    tokens = nltk.word_tokenize(text)\n",
        "    tokens = [token.strip() for token in tokens]\n",
        "    \n",
        "    if is_lower_case:\n",
        "        filtered_tokens = [token for token in tokens if token not in stopwords]\n",
        "    else:\n",
        "        filtered_tokens = [token for token in tokens if token.lower() not in stopwords]\n",
        "    \n",
        "    filtered_text = ' '.join(filtered_tokens)    \n",
        "    return filtered_text\n",
        "\n",
        "def remove_accented_chars(text):\n",
        "    text = unicodedata.normalize('NFKD', text).encode('ascii', 'ignore').decode('utf-8', 'ignore')\n",
        "    return text\n",
        "\n",
        "def remove_special_characters(text, remove_digits=False):\n",
        "    pattern = r'[^a-zA-Z0-9\\s]' if not remove_digits else r'[^a-zA-Z\\s]'\n",
        "    text = re.sub(pattern, '', text)\n",
        "    return text\n",
        "\n",
        "\n",
        "def pre_process_document(document):\n",
        "    \n",
        "    # lower case\n",
        "    document = document.lower()\n",
        "\n",
        "    # remove accented characters\n",
        "    document = remove_accented_chars(document)\n",
        "    \n",
        "    # expand contractions    \n",
        "    document = expand_contractions(document)\n",
        "\n",
        "    # remove special characters and\\or digits\n",
        "    # insert spaces between special characters to isolate them\n",
        "    special_char_pattern = re.compile(r'([{.(-)!}])')\n",
        "    document = special_char_pattern.sub(\" \\\\1 \", document)\n",
        "    document = remove_special_characters(document, remove_digits=True)  \n",
        "\n",
        "    # stemming text\n",
        "    document = simple_stemming(document)      \n",
        "    \n",
        "    # remove stopwords\n",
        "    document = remove_stopwords(document, is_lower_case=True, stopwords=stop_words)\n",
        "\n",
        "    # remove extra whitespace\n",
        "    document = re.sub(' +', ' ', document)\n",
        "    document = document.strip()\n",
        "        \n",
        "    \n",
        "    return document\n",
        "\n",
        "\n",
        "pre_process = np.vectorize(pre_process_document)"
      ],
      "execution_count": 9,
      "outputs": []
    },
    {
      "cell_type": "code",
      "metadata": {
        "id": "aBDMhYI_vKGK"
      },
      "source": [
        "norm_train_txtdt = pre_process(train_txtdt)\n",
        "norm_test_txtdt = pre_process(test_txtdt)"
      ],
      "execution_count": 10,
      "outputs": []
    },
    {
      "cell_type": "markdown",
      "metadata": {
        "id": "fOJJ0Ie5vKGV"
      },
      "source": [
        "# Traditional Supervised Machine Learning Models"
      ]
    },
    {
      "cell_type": "markdown",
      "metadata": {
        "id": "wzN5VvhCvKGZ"
      },
      "source": [
        "## Feature Engineering"
      ]
    },
    {
      "cell_type": "code",
      "metadata": {
        "id": "D52kUedPvKGe"
      },
      "source": [
        "from sklearn.feature_extraction.text import CountVectorizer, TfidfVectorizer\n",
        "\n",
        "# build BOW features on train reviews\n",
        "cv = CountVectorizer(binary=False, min_df=5, max_df=1.0, ngram_range=(1,2))\n",
        "cv_train_features = cv.fit_transform(norm_train_txtdt)\n",
        "\n",
        "\n",
        "# build TFIDF features on train reviews\n",
        "tv = TfidfVectorizer(use_idf=True, min_df=5, max_df=1.0, ngram_range=(1,2),\n",
        "                     sublinear_tf=True)\n",
        "tv_train_features = tv.fit_transform(norm_train_txtdt)"
      ],
      "execution_count": 11,
      "outputs": []
    },
    {
      "cell_type": "code",
      "metadata": {
        "id": "yrQ6iQqavKGu"
      },
      "source": [
        "# transform test reviews into features\n",
        "cv_test_features = cv.transform(norm_test_txtdt)\n",
        "tv_test_features = tv.transform(norm_test_txtdt)"
      ],
      "execution_count": 12,
      "outputs": []
    },
    {
      "cell_type": "code",
      "metadata": {
        "id": "7OA_i96OvKG8",
        "outputId": "d5e08a2a-290f-4a01-d18f-80a0fcc84104",
        "colab": {
          "base_uri": "https://localhost:8080/",
          "height": 54
        }
      },
      "source": [
        "print('BOW model:> Train features shape:', cv_train_features.shape, ' Test features shape:', cv_test_features.shape)\n",
        "print('TFIDF model:> Train features shape:', tv_train_features.shape, ' Test features shape:', tv_test_features.shape)"
      ],
      "execution_count": 13,
      "outputs": [
        {
          "output_type": "stream",
          "text": [
            "BOW model:> Train features shape: (1560, 10722)  Test features shape: (665, 10722)\n",
            "TFIDF model:> Train features shape: (1560, 10722)  Test features shape: (665, 10722)\n"
          ],
          "name": "stdout"
        }
      ]
    },
    {
      "cell_type": "markdown",
      "metadata": {
        "id": "VrGpOAPLvKHP"
      },
      "source": [
        "## Model Training, Prediction and Performance Evaluation"
      ]
    },
    {
      "cell_type": "code",
      "metadata": {
        "id": "lQ1NSu-fwkDE"
      },
      "source": [
        "def get_metrics(true_labels, predicted_labels):\n",
        "    \n",
        "    print('Accuracy:', np.round(\n",
        "                        metrics.accuracy_score(true_labels, \n",
        "                                               predicted_labels),\n",
        "                        4))\n",
        "    print('Precision:', np.round(\n",
        "                        metrics.precision_score(true_labels, \n",
        "                                               predicted_labels,\n",
        "                                               average='weighted'),\n",
        "                        4))\n",
        "    print('Recall:', np.round(\n",
        "                        metrics.recall_score(true_labels, \n",
        "                                               predicted_labels,\n",
        "                                               average='weighted'),\n",
        "                        4))\n",
        "    print('F1 Score:', np.round(\n",
        "                        metrics.f1_score(true_labels, \n",
        "                                               predicted_labels,\n",
        "                                               average='weighted'),\n",
        "                        4))\n",
        "\n",
        "\n",
        "\n",
        "def display_classification_report(true_labels, predicted_labels, classes=[1,0]):\n",
        "\n",
        "    report = metrics.classification_report(y_true=true_labels, \n",
        "                                           y_pred=predicted_labels, \n",
        "                                           labels=classes) \n",
        "    print(report)"
      ],
      "execution_count": 14,
      "outputs": []
    },
    {
      "cell_type": "markdown",
      "metadata": {
        "id": "NQYmDTDE8iE_"
      },
      "source": [
        "###Decesion Tree"
      ]
    },
    {
      "cell_type": "code",
      "metadata": {
        "id": "W7ezDp5H-Evx"
      },
      "source": [
        "# Decision Tree model on BOW features\n",
        "from sklearn.tree import DecisionTreeClassifier\n",
        "\n",
        "# instantiate model\n",
        "dtc=DecisionTreeClassifier(max_leaf_nodes = 20, min_samples_leaf = 30, random_state=40)\n",
        "\n",
        "# train model\n",
        "dtc.fit(cv_train_features, train_category)\n",
        "\n",
        "# predict on test data\n",
        "dtc_bow_predictions = dtc.predict(cv_test_features)"
      ],
      "execution_count": 15,
      "outputs": []
    },
    {
      "cell_type": "code",
      "metadata": {
        "id": "04oU1kZG-8sj",
        "outputId": "4d75c3b9-b048-42f9-ce4f-29b248b266be",
        "colab": {
          "base_uri": "https://localhost:8080/",
          "height": 92
        }
      },
      "source": [
        "get_metrics(true_labels=test_category, predicted_labels=dtc_bow_predictions)"
      ],
      "execution_count": 16,
      "outputs": [
        {
          "output_type": "stream",
          "text": [
            "Accuracy: 0.7579\n",
            "Precision: 0.7816\n",
            "Recall: 0.7579\n",
            "F1 Score: 0.7556\n"
          ],
          "name": "stdout"
        }
      ]
    },
    {
      "cell_type": "code",
      "metadata": {
        "id": "NeXQb92h-8et",
        "outputId": "4a27c1d0-e51b-4cd3-dc14-239a8b037e87",
        "colab": {
          "base_uri": "https://localhost:8080/",
          "height": 242
        }
      },
      "source": [
        "display_classification_report(true_labels=test_category, predicted_labels=dtc_bow_predictions,\n",
        "                                      classes=['entertainment', 'business', 'sport', 'tech', 'politics'])"
      ],
      "execution_count": 17,
      "outputs": [
        {
          "output_type": "stream",
          "text": [
            "               precision    recall  f1-score   support\n",
            "\n",
            "entertainment       0.86      0.60      0.71       106\n",
            "     business       0.63      0.89      0.74       147\n",
            "        sport       0.76      0.83      0.79       157\n",
            "         tech       0.85      0.58      0.69       126\n",
            "     politics       0.85      0.81      0.83       129\n",
            "\n",
            "     accuracy                           0.76       665\n",
            "    macro avg       0.79      0.74      0.75       665\n",
            " weighted avg       0.78      0.76      0.76       665\n",
            "\n"
          ],
          "name": "stdout"
        }
      ]
    },
    {
      "cell_type": "code",
      "metadata": {
        "id": "IKZBkx2y-8C1"
      },
      "source": [
        "# Decision Tree model on TF-IDF features\n",
        "\n",
        "# train model\n",
        "dtc.fit(tv_train_features, train_category)\n",
        "\n",
        "# predict on test data\n",
        "dtc_tfidf_predictions = dtc.predict(tv_test_features)"
      ],
      "execution_count": 18,
      "outputs": []
    },
    {
      "cell_type": "code",
      "metadata": {
        "id": "OOQr2zz0_XOJ",
        "outputId": "c8326648-47ba-4388-a79b-19d75ba40e51",
        "colab": {
          "base_uri": "https://localhost:8080/",
          "height": 92
        }
      },
      "source": [
        "get_metrics(true_labels=test_category, predicted_labels=dtc_tfidf_predictions)"
      ],
      "execution_count": 19,
      "outputs": [
        {
          "output_type": "stream",
          "text": [
            "Accuracy: 0.7759\n",
            "Precision: 0.7986\n",
            "Recall: 0.7759\n",
            "F1 Score: 0.7746\n"
          ],
          "name": "stdout"
        }
      ]
    },
    {
      "cell_type": "code",
      "metadata": {
        "id": "XSt1ezSS_XEo",
        "outputId": "95cc5b92-eb74-4779-cbcd-51536839fd5a",
        "colab": {
          "base_uri": "https://localhost:8080/",
          "height": 242
        }
      },
      "source": [
        "display_classification_report(true_labels=test_category, predicted_labels=dtc_tfidf_predictions,\n",
        "                                      classes=['entertainment', 'business', 'sport', 'tech', 'politics'])"
      ],
      "execution_count": 20,
      "outputs": [
        {
          "output_type": "stream",
          "text": [
            "               precision    recall  f1-score   support\n",
            "\n",
            "entertainment       0.88      0.60      0.72       106\n",
            "     business       0.65      0.89      0.75       147\n",
            "        sport       0.77      0.86      0.81       157\n",
            "         tech       0.88      0.64      0.74       126\n",
            "     politics       0.87      0.81      0.84       129\n",
            "\n",
            "     accuracy                           0.78       665\n",
            "    macro avg       0.81      0.76      0.77       665\n",
            " weighted avg       0.80      0.78      0.77       665\n",
            "\n"
          ],
          "name": "stdout"
        }
      ]
    },
    {
      "cell_type": "markdown",
      "metadata": {
        "id": "M7V3IEXvvKIP"
      },
      "source": [
        "###Random Forest\n"
      ]
    },
    {
      "cell_type": "code",
      "metadata": {
        "id": "_IBGsHQ5vKIT"
      },
      "source": [
        "# Random Forest model on BOW features\n",
        "from sklearn.ensemble import RandomForestClassifier\n",
        "\n",
        "# instantiate model\n",
        "rf = RandomForestClassifier(n_estimators=500, n_jobs=-1, random_state=42)\n",
        "\n",
        "# train model\n",
        "rf.fit(cv_train_features, train_category)\n",
        "\n",
        "# predict on test data\n",
        "rf_bow_predictions = rf.predict(cv_test_features)"
      ],
      "execution_count": 21,
      "outputs": []
    },
    {
      "cell_type": "code",
      "metadata": {
        "id": "8BK71fviy40p",
        "outputId": "85de0986-528d-4ad5-a98b-8ef00955f91c",
        "colab": {
          "base_uri": "https://localhost:8080/",
          "height": 92
        }
      },
      "source": [
        "get_metrics(true_labels=test_category, predicted_labels=rf_bow_predictions)"
      ],
      "execution_count": 22,
      "outputs": [
        {
          "output_type": "stream",
          "text": [
            "Accuracy: 0.9609\n",
            "Precision: 0.9611\n",
            "Recall: 0.9609\n",
            "F1 Score: 0.9609\n"
          ],
          "name": "stdout"
        }
      ]
    },
    {
      "cell_type": "code",
      "metadata": {
        "id": "OWMgOYOC0h_r",
        "outputId": "63ac79c2-d91c-4f93-d8c5-c4389a9f66d2",
        "colab": {
          "base_uri": "https://localhost:8080/",
          "height": 242
        }
      },
      "source": [
        "display_classification_report(true_labels=test_category, predicted_labels=rf_bow_predictions,\n",
        "                                      classes=['entertainment', 'business', 'sport', 'tech', 'politics'])"
      ],
      "execution_count": 23,
      "outputs": [
        {
          "output_type": "stream",
          "text": [
            "               precision    recall  f1-score   support\n",
            "\n",
            "entertainment       0.97      0.95      0.96       106\n",
            "     business       0.93      0.96      0.94       147\n",
            "        sport       0.98      0.99      0.98       157\n",
            "         tech       0.98      0.97      0.97       126\n",
            "     politics       0.95      0.93      0.94       129\n",
            "\n",
            "     accuracy                           0.96       665\n",
            "    macro avg       0.96      0.96      0.96       665\n",
            " weighted avg       0.96      0.96      0.96       665\n",
            "\n"
          ],
          "name": "stdout"
        }
      ]
    },
    {
      "cell_type": "code",
      "metadata": {
        "id": "p1oHiD_mvKI0"
      },
      "source": [
        "# Random Forest model on TF-IDF features\n",
        "\n",
        "# train model\n",
        "rf.fit(tv_train_features, train_category)\n",
        "\n",
        "# predict on test data\n",
        "rf_tfidf_predictions = rf.predict(tv_test_features)"
      ],
      "execution_count": 24,
      "outputs": []
    },
    {
      "cell_type": "code",
      "metadata": {
        "id": "V5e6MeNH2FpP",
        "outputId": "edcc4561-9ab3-4b53-83d7-436c0b0825ab",
        "colab": {
          "base_uri": "https://localhost:8080/",
          "height": 92
        }
      },
      "source": [
        "get_metrics(true_labels=test_category, predicted_labels=rf_tfidf_predictions)"
      ],
      "execution_count": 25,
      "outputs": [
        {
          "output_type": "stream",
          "text": [
            "Accuracy: 0.9549\n",
            "Precision: 0.9552\n",
            "Recall: 0.9549\n",
            "F1 Score: 0.9549\n"
          ],
          "name": "stdout"
        }
      ]
    },
    {
      "cell_type": "code",
      "metadata": {
        "id": "dEKJOB4U2SVF",
        "outputId": "405c6ac4-051d-4b39-848d-776187ccaaf6",
        "colab": {
          "base_uri": "https://localhost:8080/",
          "height": 242
        }
      },
      "source": [
        "display_classification_report(true_labels=test_category, predicted_labels=rf_tfidf_predictions,\n",
        "                                      classes=['entertainment', 'business', 'sport', 'tech', 'politics'])"
      ],
      "execution_count": 26,
      "outputs": [
        {
          "output_type": "stream",
          "text": [
            "               precision    recall  f1-score   support\n",
            "\n",
            "entertainment       0.98      0.95      0.97       106\n",
            "     business       0.92      0.95      0.93       147\n",
            "        sport       0.97      0.99      0.98       157\n",
            "         tech       0.97      0.97      0.97       126\n",
            "     politics       0.94      0.91      0.92       129\n",
            "\n",
            "     accuracy                           0.95       665\n",
            "    macro avg       0.96      0.95      0.95       665\n",
            " weighted avg       0.96      0.95      0.95       665\n",
            "\n"
          ],
          "name": "stdout"
        }
      ]
    },
    {
      "cell_type": "markdown",
      "metadata": {
        "id": "donCFuBM3axi"
      },
      "source": [
        "###SVM"
      ]
    },
    {
      "cell_type": "code",
      "metadata": {
        "id": "OnG_K_pwfOYA"
      },
      "source": [
        "# SVM model on BOW features\n",
        "from sklearn.svm import SVC\n",
        "\n",
        "# instantiate model\n",
        "svc=SVC(random_state=41)\n",
        "\n",
        "# train model\n",
        "svc.fit(cv_train_features, train_category)\n",
        "\n",
        "# predict on test data\n",
        "svc_bow_predictions = svc.predict(cv_test_features)"
      ],
      "execution_count": 27,
      "outputs": []
    },
    {
      "cell_type": "code",
      "metadata": {
        "id": "iwhou4au4W9J",
        "outputId": "c08230b3-a95c-42d8-829e-ed8c054d6e7c",
        "colab": {
          "base_uri": "https://localhost:8080/",
          "height": 92
        }
      },
      "source": [
        "get_metrics(true_labels=test_category, predicted_labels=svc_bow_predictions)"
      ],
      "execution_count": 28,
      "outputs": [
        {
          "output_type": "stream",
          "text": [
            "Accuracy: 0.9579\n",
            "Precision: 0.9586\n",
            "Recall: 0.9579\n",
            "F1 Score: 0.958\n"
          ],
          "name": "stdout"
        }
      ]
    },
    {
      "cell_type": "code",
      "metadata": {
        "id": "Ojf_GSlW4iWP",
        "outputId": "e76b7e1a-bf19-4fbf-a532-44576f3eddd4",
        "colab": {
          "base_uri": "https://localhost:8080/",
          "height": 242
        }
      },
      "source": [
        "display_classification_report(true_labels=test_category, predicted_labels=svc_bow_predictions,\n",
        "                                      classes=['entertainment', 'business', 'sport', 'tech', 'politics'])"
      ],
      "execution_count": 29,
      "outputs": [
        {
          "output_type": "stream",
          "text": [
            "               precision    recall  f1-score   support\n",
            "\n",
            "entertainment       0.99      0.93      0.96       106\n",
            "     business       0.95      0.95      0.95       147\n",
            "        sport       0.99      0.98      0.99       157\n",
            "         tech       0.92      0.97      0.95       126\n",
            "     politics       0.94      0.95      0.94       129\n",
            "\n",
            "     accuracy                           0.96       665\n",
            "    macro avg       0.96      0.96      0.96       665\n",
            " weighted avg       0.96      0.96      0.96       665\n",
            "\n"
          ],
          "name": "stdout"
        }
      ]
    },
    {
      "cell_type": "code",
      "metadata": {
        "id": "7ROpBEKQ4pZV"
      },
      "source": [
        "# SVM model on TF-IDF features\n",
        "\n",
        "# train model\n",
        "svc.fit(tv_train_features, train_category)\n",
        "\n",
        "# predict on test data\n",
        "svc_tfidf_predictions = svc.predict(tv_test_features)"
      ],
      "execution_count": 30,
      "outputs": []
    },
    {
      "cell_type": "code",
      "metadata": {
        "id": "PYf00KLd45LI",
        "outputId": "33f6b742-be1b-402a-8ed4-4b6409fcee64",
        "colab": {
          "base_uri": "https://localhost:8080/",
          "height": 92
        }
      },
      "source": [
        "get_metrics(true_labels=test_category, predicted_labels=svc_tfidf_predictions)"
      ],
      "execution_count": 31,
      "outputs": [
        {
          "output_type": "stream",
          "text": [
            "Accuracy: 0.9805\n",
            "Precision: 0.9804\n",
            "Recall: 0.9805\n",
            "F1 Score: 0.9804\n"
          ],
          "name": "stdout"
        }
      ]
    },
    {
      "cell_type": "code",
      "metadata": {
        "id": "X4pTCFtB47ih",
        "outputId": "918e457c-77f6-45fd-d82b-ec36b2fd9b92",
        "colab": {
          "base_uri": "https://localhost:8080/",
          "height": 242
        }
      },
      "source": [
        "display_classification_report(true_labels=test_category, predicted_labels=svc_tfidf_predictions,\n",
        "                                      classes=['entertainment', 'business', 'sport', 'tech', 'politics'])"
      ],
      "execution_count": 32,
      "outputs": [
        {
          "output_type": "stream",
          "text": [
            "               precision    recall  f1-score   support\n",
            "\n",
            "entertainment       0.99      0.99      0.99       106\n",
            "     business       0.98      0.96      0.97       147\n",
            "        sport       0.99      0.99      0.99       157\n",
            "         tech       0.98      1.00      0.99       126\n",
            "     politics       0.96      0.96      0.96       129\n",
            "\n",
            "     accuracy                           0.98       665\n",
            "    macro avg       0.98      0.98      0.98       665\n",
            " weighted avg       0.98      0.98      0.98       665\n",
            "\n"
          ],
          "name": "stdout"
        }
      ]
    },
    {
      "cell_type": "markdown",
      "metadata": {
        "id": "iV8AO-_f8Txx"
      },
      "source": [
        "###Naive Bayes"
      ]
    },
    {
      "cell_type": "code",
      "metadata": {
        "id": "E5kYC6tNBIgz"
      },
      "source": [
        "# Naive Bayes model on BOW features\n",
        "from sklearn.naive_bayes import GaussianNB\n",
        "\n",
        "# instantiate model\n",
        "gnb = GaussianNB()\n",
        "\n",
        "# train model\n",
        "gnb.fit(cv_train_features.toarray(), train_category)\n",
        "\n",
        "# predict on test data\n",
        "gnb_bow_predictions = gnb.predict(cv_test_features.toarray())"
      ],
      "execution_count": 33,
      "outputs": []
    },
    {
      "cell_type": "code",
      "metadata": {
        "id": "f830nI58Buis",
        "outputId": "044c4cf3-9130-4557-efbb-506b568c645b",
        "colab": {
          "base_uri": "https://localhost:8080/",
          "height": 92
        }
      },
      "source": [
        "get_metrics(true_labels=test_category, predicted_labels=gnb_bow_predictions)"
      ],
      "execution_count": 34,
      "outputs": [
        {
          "output_type": "stream",
          "text": [
            "Accuracy: 0.9338\n",
            "Precision: 0.935\n",
            "Recall: 0.9338\n",
            "F1 Score: 0.9336\n"
          ],
          "name": "stdout"
        }
      ]
    },
    {
      "cell_type": "code",
      "metadata": {
        "id": "HgO7u1OMB0wc",
        "outputId": "0d527a44-7373-47fc-a694-16e9f77a3b04",
        "colab": {
          "base_uri": "https://localhost:8080/",
          "height": 242
        }
      },
      "source": [
        "display_classification_report(true_labels=test_category, predicted_labels=gnb_bow_predictions,\n",
        "                                      classes=['entertainment', 'business', 'sport', 'tech', 'politics'])"
      ],
      "execution_count": 35,
      "outputs": [
        {
          "output_type": "stream",
          "text": [
            "               precision    recall  f1-score   support\n",
            "\n",
            "entertainment       0.93      0.90      0.91       106\n",
            "     business       0.94      0.86      0.90       147\n",
            "        sport       0.99      0.99      0.99       157\n",
            "         tech       0.88      0.98      0.93       126\n",
            "     politics       0.91      0.93      0.92       129\n",
            "\n",
            "     accuracy                           0.93       665\n",
            "    macro avg       0.93      0.93      0.93       665\n",
            " weighted avg       0.94      0.93      0.93       665\n",
            "\n"
          ],
          "name": "stdout"
        }
      ]
    },
    {
      "cell_type": "code",
      "metadata": {
        "id": "WQAOXQKTB0lW"
      },
      "source": [
        "# Naive Bayes model on TF-IDF features\n",
        "\n",
        "# train model\n",
        "gnb.fit(tv_train_features.toarray(), train_category)\n",
        "\n",
        "# predict on test data\n",
        "gnb_tfidf_predictions = gnb.predict(tv_test_features.toarray())"
      ],
      "execution_count": 36,
      "outputs": []
    },
    {
      "cell_type": "code",
      "metadata": {
        "id": "reuncxsxB0aC",
        "outputId": "29c5de2e-22e2-4ff1-f46f-a4845e3f6bd0",
        "colab": {
          "base_uri": "https://localhost:8080/",
          "height": 92
        }
      },
      "source": [
        "get_metrics(true_labels=test_category, predicted_labels=gnb_tfidf_predictions)"
      ],
      "execution_count": 37,
      "outputs": [
        {
          "output_type": "stream",
          "text": [
            "Accuracy: 0.9414\n",
            "Precision: 0.9437\n",
            "Recall: 0.9414\n",
            "F1 Score: 0.9413\n"
          ],
          "name": "stdout"
        }
      ]
    },
    {
      "cell_type": "code",
      "metadata": {
        "id": "A7Txmu-KB0Me",
        "outputId": "3f97dcd6-c4c2-4863-ebfe-167e51a22217",
        "colab": {
          "base_uri": "https://localhost:8080/",
          "height": 242
        }
      },
      "source": [
        "display_classification_report(true_labels=test_category, predicted_labels=gnb_tfidf_predictions,\n",
        "                                      classes=['entertainment', 'business', 'sport', 'tech', 'politics'])"
      ],
      "execution_count": 38,
      "outputs": [
        {
          "output_type": "stream",
          "text": [
            "               precision    recall  f1-score   support\n",
            "\n",
            "entertainment       0.98      0.90      0.94       106\n",
            "     business       0.95      0.88      0.91       147\n",
            "        sport       1.00      0.99      1.00       157\n",
            "         tech       0.88      0.98      0.93       126\n",
            "     politics       0.90      0.95      0.92       129\n",
            "\n",
            "     accuracy                           0.94       665\n",
            "    macro avg       0.94      0.94      0.94       665\n",
            " weighted avg       0.94      0.94      0.94       665\n",
            "\n"
          ],
          "name": "stdout"
        }
      ]
    }
  ]
}