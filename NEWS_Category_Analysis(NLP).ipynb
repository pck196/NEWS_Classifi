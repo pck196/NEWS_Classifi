{
  "nbformat": 4,
  "nbformat_minor": 0,
  "metadata": {
    "anaconda-cloud": {},
    "kernelspec": {
      "display_name": "Python 3",
      "language": "python",
      "name": "python3"
    },
    "language_info": {
      "codemirror_mode": {
        "name": "ipython",
        "version": 3
      },
      "file_extension": ".py",
      "mimetype": "text/x-python",
      "name": "python",
      "nbconvert_exporter": "python",
      "pygments_lexer": "ipython3",
      "version": "3.6.5"
    },
    "colab": {
      "name": "NEWS_Category_Analysis(NLP).ipynb",
      "provenance": [],
      "collapsed_sections": [
        "M7V3IEXvvKIP"
      ]
    }
  },
  "cells": [
    {
      "cell_type": "markdown",
      "metadata": {
        "id": "KeAfesPhvKEt"
      },
      "source": [
        "# Load and View Dataset"
      ]
    },
    {
      "cell_type": "code",
      "metadata": {
        "id": "yz5iEWEo4dv1"
      },
      "source": [
        "import numpy as np\n",
        "import pandas as pd\n",
        "from sklearn import metrics"
      ],
      "execution_count": null,
      "outputs": []
    },
    {
      "cell_type": "code",
      "metadata": {
        "id": "MIcc7G3dvKE7",
        "outputId": "94c9e296-11a4-4dac-d71c-30dc91b51e4b",
        "colab": {
          "base_uri": "https://localhost:8080/",
          "height": 186
        }
      },
      "source": [
        "data_url=\"https://raw.githubusercontent.com/pck196/dataforproject/master/news-data.csv\"\n",
        "dataset = pd.read_csv(data_url)\n",
        "dataset.info()"
      ],
      "execution_count": null,
      "outputs": [
        {
          "output_type": "stream",
          "text": [
            "<class 'pandas.core.frame.DataFrame'>\n",
            "RangeIndex: 2225 entries, 0 to 2224\n",
            "Data columns (total 2 columns):\n",
            " #   Column    Non-Null Count  Dtype \n",
            "---  ------    --------------  ----- \n",
            " 0   category  2225 non-null   object\n",
            " 1   text      2225 non-null   object\n",
            "dtypes: object(2)\n",
            "memory usage: 34.9+ KB\n"
          ],
          "name": "stdout"
        }
      ]
    },
    {
      "cell_type": "code",
      "metadata": {
        "id": "ICZnhtIrvKFR",
        "outputId": "78562f8c-3bd8-4206-b19a-879c9f2e5b34",
        "colab": {
          "base_uri": "https://localhost:8080/",
          "height": 206
        }
      },
      "source": [
        "dataset.head()"
      ],
      "execution_count": null,
      "outputs": [
        {
          "output_type": "execute_result",
          "data": {
            "text/html": [
              "<div>\n",
              "<style scoped>\n",
              "    .dataframe tbody tr th:only-of-type {\n",
              "        vertical-align: middle;\n",
              "    }\n",
              "\n",
              "    .dataframe tbody tr th {\n",
              "        vertical-align: top;\n",
              "    }\n",
              "\n",
              "    .dataframe thead th {\n",
              "        text-align: right;\n",
              "    }\n",
              "</style>\n",
              "<table border=\"1\" class=\"dataframe\">\n",
              "  <thead>\n",
              "    <tr style=\"text-align: right;\">\n",
              "      <th></th>\n",
              "      <th>category</th>\n",
              "      <th>text</th>\n",
              "    </tr>\n",
              "  </thead>\n",
              "  <tbody>\n",
              "    <tr>\n",
              "      <th>0</th>\n",
              "      <td>tech</td>\n",
              "      <td>tv future in the hands of viewers with home th...</td>\n",
              "    </tr>\n",
              "    <tr>\n",
              "      <th>1</th>\n",
              "      <td>business</td>\n",
              "      <td>worldcom boss  left books alone  former worldc...</td>\n",
              "    </tr>\n",
              "    <tr>\n",
              "      <th>2</th>\n",
              "      <td>sport</td>\n",
              "      <td>tigers wary of farrell  gamble  leicester say ...</td>\n",
              "    </tr>\n",
              "    <tr>\n",
              "      <th>3</th>\n",
              "      <td>sport</td>\n",
              "      <td>yeading face newcastle in fa cup premiership s...</td>\n",
              "    </tr>\n",
              "    <tr>\n",
              "      <th>4</th>\n",
              "      <td>entertainment</td>\n",
              "      <td>ocean s twelve raids box office ocean s twelve...</td>\n",
              "    </tr>\n",
              "  </tbody>\n",
              "</table>\n",
              "</div>"
            ],
            "text/plain": [
              "        category                                               text\n",
              "0           tech  tv future in the hands of viewers with home th...\n",
              "1       business  worldcom boss  left books alone  former worldc...\n",
              "2          sport  tigers wary of farrell  gamble  leicester say ...\n",
              "3          sport  yeading face newcastle in fa cup premiership s...\n",
              "4  entertainment  ocean s twelve raids box office ocean s twelve..."
            ]
          },
          "metadata": {
            "tags": []
          },
          "execution_count": 3
        }
      ]
    },
    {
      "cell_type": "markdown",
      "metadata": {
        "id": "r_d-c4ZvvKFj"
      },
      "source": [
        "# Build Train and Test Datasets"
      ]
    },
    {
      "cell_type": "code",
      "metadata": {
        "id": "QHjZqTkzvKFo"
      },
      "source": [
        "# build train and test datasets\n",
        "txtdt = dataset['text'].values\n",
        "category = dataset['category'].values\n",
        "\n",
        "train_txtdt = txtdt[:1560]\n",
        "train_category = category[:1560]\n",
        "\n",
        "test_txtdt = txtdt[1560:]\n",
        "test_category = category[1560:]"
      ],
      "execution_count": null,
      "outputs": []
    },
    {
      "cell_type": "markdown",
      "metadata": {
        "id": "CoylZf4tvKF3"
      },
      "source": [
        "# Text Wrangling & Normalization"
      ]
    },
    {
      "cell_type": "code",
      "metadata": {
        "id": "r77jc3Lb1-eF",
        "outputId": "5757b028-f375-48ac-e06d-e43325caa59d",
        "colab": {
          "base_uri": "https://localhost:8080/",
          "height": 186
        }
      },
      "source": [
        "!pip install contractions\n",
        "import nltk\n",
        "import unicodedata\n",
        "import re\n",
        "nltk.download('stopwords')\n",
        "nltk.download('punkt')"
      ],
      "execution_count": null,
      "outputs": [
        {
          "output_type": "stream",
          "text": [
            "Requirement already satisfied: contractions in /usr/local/lib/python3.6/dist-packages (0.0.25)\n",
            "Requirement already satisfied: textsearch in /usr/local/lib/python3.6/dist-packages (from contractions) (0.0.17)\n",
            "Requirement already satisfied: pyahocorasick in /usr/local/lib/python3.6/dist-packages (from textsearch->contractions) (1.4.0)\n",
            "Requirement already satisfied: Unidecode in /usr/local/lib/python3.6/dist-packages (from textsearch->contractions) (1.1.1)\n",
            "[nltk_data] Downloading package stopwords to /root/nltk_data...\n",
            "[nltk_data]   Package stopwords is already up-to-date!\n",
            "[nltk_data] Downloading package punkt to /root/nltk_data...\n",
            "[nltk_data]   Package punkt is already up-to-date!\n"
          ],
          "name": "stdout"
        },
        {
          "output_type": "execute_result",
          "data": {
            "text/plain": [
              "True"
            ]
          },
          "metadata": {
            "tags": []
          },
          "execution_count": 5
        }
      ]
    },
    {
      "cell_type": "code",
      "metadata": {
        "id": "Uo6zxqfwvKF8"
      },
      "source": [
        "import contractions\n",
        "\n",
        "ps = nltk.porter.PorterStemmer()\n",
        "stop_words = nltk.corpus.stopwords.words('english')\n",
        "\n",
        "def expand_contractions(text):\n",
        "    return contractions.fix(text)\n",
        "\n",
        "\n",
        "def simple_stemming(text, stemmer=ps):\n",
        "    text = ' '.join([stemmer.stem(word) for word in text.split()])\n",
        "    return text\n",
        "\n",
        "\n",
        "def remove_stopwords(text, is_lower_case=False, stopwords=None):\n",
        "    if not stopwords:\n",
        "        stopwords = nltk.corpus.stopwords.words('english')\n",
        "    tokens = nltk.word_tokenize(text)\n",
        "    tokens = [token.strip() for token in tokens]\n",
        "    \n",
        "    if is_lower_case:\n",
        "        filtered_tokens = [token for token in tokens if token not in stopwords]\n",
        "    else:\n",
        "        filtered_tokens = [token for token in tokens if token.lower() not in stopwords]\n",
        "    \n",
        "    filtered_text = ' '.join(filtered_tokens)    \n",
        "    return filtered_text\n",
        "\n",
        "def remove_accented_chars(text):\n",
        "    text = unicodedata.normalize('NFKD', text).encode('ascii', 'ignore').decode('utf-8', 'ignore')\n",
        "    return text\n",
        "\n",
        "def remove_special_characters(text, remove_digits=False):\n",
        "    pattern = r'[^a-zA-Z0-9\\s]' if not remove_digits else r'[^a-zA-Z\\s]'\n",
        "    text = re.sub(pattern, '', text)\n",
        "    return text\n",
        "\n",
        "\n",
        "def pre_process_document(document):\n",
        "    \n",
        "    # lower case\n",
        "    document = document.lower()\n",
        "\n",
        "    # remove accented characters\n",
        "    document = remove_accented_chars(document)\n",
        "    \n",
        "    # expand contractions    \n",
        "    document = expand_contractions(document)\n",
        "\n",
        "    # remove special characters and\\or digits\n",
        "    # insert spaces between special characters to isolate them\n",
        "    special_char_pattern = re.compile(r'([{.(-)!}])')\n",
        "    document = special_char_pattern.sub(\" \\\\1 \", document)\n",
        "    document = remove_special_characters(document, remove_digits=True)  \n",
        "\n",
        "    # stemming text\n",
        "    document = simple_stemming(document)      \n",
        "    \n",
        "    # remove stopwords\n",
        "    document = remove_stopwords(document, is_lower_case=True, stopwords=stop_words)\n",
        "\n",
        "    # remove extra whitespace\n",
        "    document = re.sub(' +', ' ', document)\n",
        "    document = document.strip()\n",
        "        \n",
        "    \n",
        "    return document\n",
        "\n",
        "\n",
        "pre_process = np.vectorize(pre_process_document)"
      ],
      "execution_count": null,
      "outputs": []
    },
    {
      "cell_type": "code",
      "metadata": {
        "id": "aBDMhYI_vKGK"
      },
      "source": [
        "norm_train_txtdt = pre_process(train_txtdt)\n",
        "norm_test_txtdt = pre_process(test_txtdt)"
      ],
      "execution_count": null,
      "outputs": []
    },
    {
      "cell_type": "markdown",
      "metadata": {
        "id": "fOJJ0Ie5vKGV"
      },
      "source": [
        "# Traditional Supervised Machine Learning Models"
      ]
    },
    {
      "cell_type": "markdown",
      "metadata": {
        "id": "wzN5VvhCvKGZ"
      },
      "source": [
        "## Feature Engineering"
      ]
    },
    {
      "cell_type": "code",
      "metadata": {
        "id": "D52kUedPvKGe"
      },
      "source": [
        "from sklearn.feature_extraction.text import CountVectorizer, TfidfVectorizer\n",
        "\n",
        "# build BOW features on train reviews\n",
        "cv = CountVectorizer(binary=False, min_df=5, max_df=1.0, ngram_range=(1,2))\n",
        "cv_train_features = cv.fit_transform(norm_train_txtdt)\n",
        "\n",
        "\n",
        "# build TFIDF features on train reviews\n",
        "tv = TfidfVectorizer(use_idf=True, min_df=5, max_df=1.0, ngram_range=(1,2),\n",
        "                     sublinear_tf=True)\n",
        "tv_train_features = tv.fit_transform(norm_train_txtdt)"
      ],
      "execution_count": null,
      "outputs": []
    },
    {
      "cell_type": "code",
      "metadata": {
        "id": "yrQ6iQqavKGu"
      },
      "source": [
        "# transform test reviews into features\n",
        "cv_test_features = cv.transform(norm_test_txtdt)\n",
        "tv_test_features = tv.transform(norm_test_txtdt)"
      ],
      "execution_count": null,
      "outputs": []
    },
    {
      "cell_type": "code",
      "metadata": {
        "id": "7OA_i96OvKG8",
        "outputId": "a34a9192-913e-4280-c7f7-edfa8a764e95",
        "colab": {
          "base_uri": "https://localhost:8080/",
          "height": 54
        }
      },
      "source": [
        "print('BOW model:> Train features shape:', cv_train_features.shape, ' Test features shape:', cv_test_features.shape)\n",
        "print('TFIDF model:> Train features shape:', tv_train_features.shape, ' Test features shape:', tv_test_features.shape)"
      ],
      "execution_count": null,
      "outputs": [
        {
          "output_type": "stream",
          "text": [
            "BOW model:> Train features shape: (1560, 10722)  Test features shape: (665, 10722)\n",
            "TFIDF model:> Train features shape: (1560, 10722)  Test features shape: (665, 10722)\n"
          ],
          "name": "stdout"
        }
      ]
    },
    {
      "cell_type": "markdown",
      "metadata": {
        "id": "VrGpOAPLvKHP"
      },
      "source": [
        "## Model Training, Prediction and Performance Evaluation"
      ]
    },
    {
      "cell_type": "code",
      "metadata": {
        "id": "lQ1NSu-fwkDE"
      },
      "source": [
        "def get_metrics(true_labels, predicted_labels):\n",
        "    \n",
        "    print('Accuracy:', np.round(\n",
        "                        metrics.accuracy_score(true_labels, \n",
        "                                               predicted_labels),\n",
        "                        4))\n",
        "    print('Precision:', np.round(\n",
        "                        metrics.precision_score(true_labels, \n",
        "                                               predicted_labels,\n",
        "                                               average='weighted'),\n",
        "                        4))\n",
        "    print('Recall:', np.round(\n",
        "                        metrics.recall_score(true_labels, \n",
        "                                               predicted_labels,\n",
        "                                               average='weighted'),\n",
        "                        4))\n",
        "    print('F1 Score:', np.round(\n",
        "                        metrics.f1_score(true_labels, \n",
        "                                               predicted_labels,\n",
        "                                               average='weighted'),\n",
        "                        4))\n",
        "\n",
        "def display_confusion_matrix(true_labels, predicted_labels, classes=[1,0]):\n",
        "    \n",
        "    total_classes = len(classes)\n",
        "    level_labels = [total_classes*[0], list(range(total_classes))]\n",
        "\n",
        "    cm = metrics.confusion_matrix(y_true=true_labels, y_pred=predicted_labels, \n",
        "                                  labels=classes)\n",
        "    cm_frame = pd.DataFrame(data=cm, \n",
        "                            columns=pd.MultiIndex(levels=[['Predicted:'], classes], \n",
        "                                                  labels=level_labels), \n",
        "                            index=pd.MultiIndex(levels=[['Actual:'], classes], \n",
        "                                                labels=level_labels)) \n",
        "    print(cm_frame)\n",
        "\n",
        "\n",
        "def display_classification_report(true_labels, predicted_labels, classes=[1,0]):\n",
        "\n",
        "    report = metrics.classification_report(y_true=true_labels, \n",
        "                                           y_pred=predicted_labels, \n",
        "                                           labels=classes) \n",
        "    print(report)"
      ],
      "execution_count": null,
      "outputs": []
    },
    {
      "cell_type": "markdown",
      "metadata": {
        "id": "M7V3IEXvvKIP"
      },
      "source": [
        "###Random Forest\n"
      ]
    },
    {
      "cell_type": "code",
      "metadata": {
        "id": "_IBGsHQ5vKIT"
      },
      "source": [
        "# Random Forest model on BOW features\n",
        "from sklearn.ensemble import RandomForestClassifier\n",
        "\n",
        "# instantiate model\n",
        "rf = RandomForestClassifier(n_estimators=500, n_jobs=-1, random_state=42)\n",
        "\n",
        "# train model\n",
        "rf.fit(cv_train_features, train_category)\n",
        "\n",
        "# predict on test data\n",
        "rf_bow_predictions = rf.predict(cv_test_features)"
      ],
      "execution_count": null,
      "outputs": []
    },
    {
      "cell_type": "code",
      "metadata": {
        "id": "8BK71fviy40p",
        "outputId": "d4f0ef05-22ac-4d3f-d274-3f219dd1d593",
        "colab": {
          "base_uri": "https://localhost:8080/"
        }
      },
      "source": [
        "get_metrics(true_labels=test_category, predicted_labels=rf_bow_predictions)"
      ],
      "execution_count": null,
      "outputs": [
        {
          "output_type": "stream",
          "text": [
            "Accuracy: 0.9609\n",
            "Precision: 0.9611\n",
            "Recall: 0.9609\n",
            "F1 Score: 0.9609\n"
          ],
          "name": "stdout"
        }
      ]
    },
    {
      "cell_type": "code",
      "metadata": {
        "id": "OWMgOYOC0h_r",
        "outputId": "785a6f8d-0509-4d33-8356-f253420400cf",
        "colab": {
          "base_uri": "https://localhost:8080/"
        }
      },
      "source": [
        "display_classification_report(true_labels=test_category, predicted_labels=rf_bow_predictions,\n",
        "                                      classes=['entertainment', 'business', 'sport', 'tech', 'politics'])"
      ],
      "execution_count": null,
      "outputs": [
        {
          "output_type": "stream",
          "text": [
            "               precision    recall  f1-score   support\n",
            "\n",
            "entertainment       0.97      0.95      0.96       106\n",
            "     business       0.93      0.96      0.94       147\n",
            "        sport       0.98      0.99      0.98       157\n",
            "         tech       0.98      0.97      0.97       126\n",
            "     politics       0.95      0.93      0.94       129\n",
            "\n",
            "     accuracy                           0.96       665\n",
            "    macro avg       0.96      0.96      0.96       665\n",
            " weighted avg       0.96      0.96      0.96       665\n",
            "\n"
          ],
          "name": "stdout"
        }
      ]
    },
    {
      "cell_type": "code",
      "metadata": {
        "id": "p1oHiD_mvKI0"
      },
      "source": [
        "# Random Forest model on TF-IDF features\n",
        "\n",
        "# train model\n",
        "rf.fit(tv_train_features, train_category)\n",
        "\n",
        "# predict on test data\n",
        "rf_tfidf_predictions = rf.predict(tv_test_features)"
      ],
      "execution_count": null,
      "outputs": []
    },
    {
      "cell_type": "code",
      "metadata": {
        "id": "V5e6MeNH2FpP",
        "outputId": "0c5ed072-3475-4529-d016-a5c91ac728a4",
        "colab": {
          "base_uri": "https://localhost:8080/"
        }
      },
      "source": [
        "get_metrics(true_labels=test_category, predicted_labels=rf_tfidf_predictions)"
      ],
      "execution_count": null,
      "outputs": [
        {
          "output_type": "stream",
          "text": [
            "Accuracy: 0.9549\n",
            "Precision: 0.9552\n",
            "Recall: 0.9549\n",
            "F1 Score: 0.9549\n"
          ],
          "name": "stdout"
        }
      ]
    },
    {
      "cell_type": "code",
      "metadata": {
        "id": "dEKJOB4U2SVF",
        "outputId": "300ca8ab-6944-4e8c-e8a0-2eaacd40f69d",
        "colab": {
          "base_uri": "https://localhost:8080/"
        }
      },
      "source": [
        "display_classification_report(true_labels=test_category, predicted_labels=rf_tfidf_predictions,\n",
        "                                      classes=['entertainment', 'business', 'sport', 'tech', 'politics'])"
      ],
      "execution_count": null,
      "outputs": [
        {
          "output_type": "stream",
          "text": [
            "               precision    recall  f1-score   support\n",
            "\n",
            "entertainment       0.98      0.95      0.97       106\n",
            "     business       0.92      0.95      0.93       147\n",
            "        sport       0.97      0.99      0.98       157\n",
            "         tech       0.97      0.97      0.97       126\n",
            "     politics       0.94      0.91      0.92       129\n",
            "\n",
            "     accuracy                           0.95       665\n",
            "    macro avg       0.96      0.95      0.95       665\n",
            " weighted avg       0.96      0.95      0.95       665\n",
            "\n"
          ],
          "name": "stdout"
        }
      ]
    },
    {
      "cell_type": "markdown",
      "metadata": {
        "id": "donCFuBM3axi"
      },
      "source": [
        "###SVM"
      ]
    },
    {
      "cell_type": "code",
      "metadata": {
        "id": "OnG_K_pwfOYA"
      },
      "source": [
        "# SVM model on BOW features\n",
        "from sklearn.svm import SVC\n",
        "\n",
        "# instantiate model\n",
        "svc=SVC(random_state=41)\n",
        "\n",
        "# train model\n",
        "svc.fit(cv_train_features, train_category)\n",
        "\n",
        "# predict on test data\n",
        "svc_bow_predictions = svc.predict(cv_test_features)"
      ],
      "execution_count": null,
      "outputs": []
    },
    {
      "cell_type": "code",
      "metadata": {
        "id": "iwhou4au4W9J",
        "outputId": "de9f148a-4fa6-436e-8958-ed254fc84ae0",
        "colab": {
          "base_uri": "https://localhost:8080/",
          "height": 92
        }
      },
      "source": [
        "get_metrics(true_labels=test_category, predicted_labels=svc_bow_predictions)"
      ],
      "execution_count": null,
      "outputs": [
        {
          "output_type": "stream",
          "text": [
            "Accuracy: 0.9579\n",
            "Precision: 0.9586\n",
            "Recall: 0.9579\n",
            "F1 Score: 0.958\n"
          ],
          "name": "stdout"
        }
      ]
    },
    {
      "cell_type": "code",
      "metadata": {
        "id": "Ojf_GSlW4iWP",
        "outputId": "ecd0c9b4-0c1a-4eb1-b924-e74dd17a8d0d",
        "colab": {
          "base_uri": "https://localhost:8080/",
          "height": 242
        }
      },
      "source": [
        "display_classification_report(true_labels=test_category, predicted_labels=svc_bow_predictions,\n",
        "                                      classes=['entertainment', 'business', 'sport', 'tech', 'politics'])"
      ],
      "execution_count": null,
      "outputs": [
        {
          "output_type": "stream",
          "text": [
            "               precision    recall  f1-score   support\n",
            "\n",
            "entertainment       0.99      0.93      0.96       106\n",
            "     business       0.95      0.95      0.95       147\n",
            "        sport       0.99      0.98      0.99       157\n",
            "         tech       0.92      0.97      0.95       126\n",
            "     politics       0.94      0.95      0.94       129\n",
            "\n",
            "     accuracy                           0.96       665\n",
            "    macro avg       0.96      0.96      0.96       665\n",
            " weighted avg       0.96      0.96      0.96       665\n",
            "\n"
          ],
          "name": "stdout"
        }
      ]
    },
    {
      "cell_type": "code",
      "metadata": {
        "id": "7ROpBEKQ4pZV"
      },
      "source": [
        "# SVM model on TF-IDF features\n",
        "\n",
        "# train model\n",
        "svc.fit(tv_train_features, train_category)\n",
        "\n",
        "# predict on test data\n",
        "svc_tfidf_predictions = svc.predict(tv_test_features)"
      ],
      "execution_count": null,
      "outputs": []
    },
    {
      "cell_type": "code",
      "metadata": {
        "id": "PYf00KLd45LI",
        "outputId": "3ce35a0d-f354-4b66-ebca-3ac11f4ae9a6",
        "colab": {
          "base_uri": "https://localhost:8080/",
          "height": 92
        }
      },
      "source": [
        "get_metrics(true_labels=test_category, predicted_labels=svc_tfidf_predictions)"
      ],
      "execution_count": null,
      "outputs": [
        {
          "output_type": "stream",
          "text": [
            "Accuracy: 0.9805\n",
            "Precision: 0.9804\n",
            "Recall: 0.9805\n",
            "F1 Score: 0.9804\n"
          ],
          "name": "stdout"
        }
      ]
    },
    {
      "cell_type": "code",
      "metadata": {
        "id": "X4pTCFtB47ih",
        "outputId": "b70023f1-0d3e-46d5-9aa4-257d6b5bd3f3",
        "colab": {
          "base_uri": "https://localhost:8080/",
          "height": 242
        }
      },
      "source": [
        "display_classification_report(true_labels=test_category, predicted_labels=svc_tfidf_predictions,\n",
        "                                      classes=['entertainment', 'business', 'sport', 'tech', 'politics'])"
      ],
      "execution_count": null,
      "outputs": [
        {
          "output_type": "stream",
          "text": [
            "               precision    recall  f1-score   support\n",
            "\n",
            "entertainment       0.99      0.99      0.99       106\n",
            "     business       0.98      0.96      0.97       147\n",
            "        sport       0.99      0.99      0.99       157\n",
            "         tech       0.98      1.00      0.99       126\n",
            "     politics       0.96      0.96      0.96       129\n",
            "\n",
            "     accuracy                           0.98       665\n",
            "    macro avg       0.98      0.98      0.98       665\n",
            " weighted avg       0.98      0.98      0.98       665\n",
            "\n"
          ],
          "name": "stdout"
        }
      ]
    },
    {
      "cell_type": "markdown",
      "metadata": {
        "id": "iV8AO-_f8Txx"
      },
      "source": [
        "###Naive Bayes"
      ]
    },
    {
      "cell_type": "code",
      "metadata": {
        "id": "E5kYC6tNBIgz"
      },
      "source": [
        "# Naive Bayes model on BOW features\n",
        "from sklearn.naive_bayes import GaussianNB\n",
        "\n",
        "# instantiate model\n",
        "gnb = GaussianNB()\n",
        "\n",
        "# train model\n",
        "gnb.fit(cv_train_features.toarray(), train_category)\n",
        "\n",
        "# predict on test data\n",
        "gnb_bow_predictions = gnb.predict(cv_test_features.toarray())"
      ],
      "execution_count": null,
      "outputs": []
    },
    {
      "cell_type": "code",
      "metadata": {
        "id": "f830nI58Buis",
        "outputId": "885e5b3b-4453-4205-9f53-b86b7b42f8c0",
        "colab": {
          "base_uri": "https://localhost:8080/",
          "height": 92
        }
      },
      "source": [
        "get_metrics(true_labels=test_category, predicted_labels=gnb_bow_predictions)"
      ],
      "execution_count": null,
      "outputs": [
        {
          "output_type": "stream",
          "text": [
            "Accuracy: 0.9338\n",
            "Precision: 0.935\n",
            "Recall: 0.9338\n",
            "F1 Score: 0.9336\n"
          ],
          "name": "stdout"
        }
      ]
    },
    {
      "cell_type": "code",
      "metadata": {
        "id": "HgO7u1OMB0wc",
        "outputId": "1ea39212-8374-460b-b7f2-ea12db7bdcfb",
        "colab": {
          "base_uri": "https://localhost:8080/",
          "height": 242
        }
      },
      "source": [
        "display_classification_report(true_labels=test_category, predicted_labels=gnb_bow_predictions,\n",
        "                                      classes=['entertainment', 'business', 'sport', 'tech', 'politics'])"
      ],
      "execution_count": null,
      "outputs": [
        {
          "output_type": "stream",
          "text": [
            "               precision    recall  f1-score   support\n",
            "\n",
            "entertainment       0.93      0.90      0.91       106\n",
            "     business       0.94      0.86      0.90       147\n",
            "        sport       0.99      0.99      0.99       157\n",
            "         tech       0.88      0.98      0.93       126\n",
            "     politics       0.91      0.93      0.92       129\n",
            "\n",
            "     accuracy                           0.93       665\n",
            "    macro avg       0.93      0.93      0.93       665\n",
            " weighted avg       0.94      0.93      0.93       665\n",
            "\n"
          ],
          "name": "stdout"
        }
      ]
    },
    {
      "cell_type": "code",
      "metadata": {
        "id": "WQAOXQKTB0lW"
      },
      "source": [
        "# Naive Bayes model on TF-IDF features\n",
        "\n",
        "# train model\n",
        "gnb.fit(tv_train_features.toarray(), train_category)\n",
        "\n",
        "# predict on test data\n",
        "gnb_tfidf_predictions = gnb.predict(tv_test_features.toarray())"
      ],
      "execution_count": null,
      "outputs": []
    },
    {
      "cell_type": "code",
      "metadata": {
        "id": "reuncxsxB0aC",
        "outputId": "6fe387af-20e4-4c43-cf7b-610cb3233274",
        "colab": {
          "base_uri": "https://localhost:8080/",
          "height": 92
        }
      },
      "source": [
        "get_metrics(true_labels=test_category, predicted_labels=gnb_tfidf_predictions)"
      ],
      "execution_count": null,
      "outputs": [
        {
          "output_type": "stream",
          "text": [
            "Accuracy: 0.9414\n",
            "Precision: 0.9437\n",
            "Recall: 0.9414\n",
            "F1 Score: 0.9413\n"
          ],
          "name": "stdout"
        }
      ]
    },
    {
      "cell_type": "code",
      "metadata": {
        "id": "A7Txmu-KB0Me",
        "outputId": "be73c129-8f22-4b23-d3db-44c40a06ab59",
        "colab": {
          "base_uri": "https://localhost:8080/",
          "height": 242
        }
      },
      "source": [
        "display_classification_report(true_labels=test_category, predicted_labels=gnb_tfidf_predictions,\n",
        "                                      classes=['entertainment', 'business', 'sport', 'tech', 'politics'])"
      ],
      "execution_count": null,
      "outputs": [
        {
          "output_type": "stream",
          "text": [
            "               precision    recall  f1-score   support\n",
            "\n",
            "entertainment       0.98      0.90      0.94       106\n",
            "     business       0.95      0.88      0.91       147\n",
            "        sport       1.00      0.99      1.00       157\n",
            "         tech       0.88      0.98      0.93       126\n",
            "     politics       0.90      0.95      0.92       129\n",
            "\n",
            "     accuracy                           0.94       665\n",
            "    macro avg       0.94      0.94      0.94       665\n",
            " weighted avg       0.94      0.94      0.94       665\n",
            "\n"
          ],
          "name": "stdout"
        }
      ]
    },
    {
      "cell_type": "markdown",
      "metadata": {
        "id": "NQYmDTDE8iE_"
      },
      "source": [
        "###Decesion Tree"
      ]
    },
    {
      "cell_type": "code",
      "metadata": {
        "id": "W7ezDp5H-Evx"
      },
      "source": [
        "# Decision Tree model on BOW features\n",
        "from sklearn.tree import DecisionTreeClassifier\n",
        "\n",
        "# instantiate model\n",
        "dtc=DecisionTreeClassifier(max_leaf_nodes = 20, min_samples_leaf = 30, random_state=40)\n",
        "\n",
        "# train model\n",
        "dtc.fit(cv_train_features, train_category)\n",
        "\n",
        "# predict on test data\n",
        "dtc_bow_predictions = dtc.predict(cv_test_features)"
      ],
      "execution_count": null,
      "outputs": []
    },
    {
      "cell_type": "code",
      "metadata": {
        "id": "04oU1kZG-8sj",
        "outputId": "7d8d87c0-09cd-4cd0-a645-c127cf17958b",
        "colab": {
          "base_uri": "https://localhost:8080/",
          "height": 92
        }
      },
      "source": [
        "get_metrics(true_labels=test_category, predicted_labels=dtc_bow_predictions)"
      ],
      "execution_count": null,
      "outputs": [
        {
          "output_type": "stream",
          "text": [
            "Accuracy: 0.7579\n",
            "Precision: 0.7816\n",
            "Recall: 0.7579\n",
            "F1 Score: 0.7556\n"
          ],
          "name": "stdout"
        }
      ]
    },
    {
      "cell_type": "code",
      "metadata": {
        "id": "NeXQb92h-8et",
        "outputId": "d2535318-0537-4157-cc24-e4d9f4333119",
        "colab": {
          "base_uri": "https://localhost:8080/",
          "height": 242
        }
      },
      "source": [
        "display_classification_report(true_labels=test_category, predicted_labels=dtc_bow_predictions,\n",
        "                                      classes=['entertainment', 'business', 'sport', 'tech', 'politics'])"
      ],
      "execution_count": null,
      "outputs": [
        {
          "output_type": "stream",
          "text": [
            "               precision    recall  f1-score   support\n",
            "\n",
            "entertainment       0.86      0.60      0.71       106\n",
            "     business       0.63      0.89      0.74       147\n",
            "        sport       0.76      0.83      0.79       157\n",
            "         tech       0.85      0.58      0.69       126\n",
            "     politics       0.85      0.81      0.83       129\n",
            "\n",
            "     accuracy                           0.76       665\n",
            "    macro avg       0.79      0.74      0.75       665\n",
            " weighted avg       0.78      0.76      0.76       665\n",
            "\n"
          ],
          "name": "stdout"
        }
      ]
    },
    {
      "cell_type": "code",
      "metadata": {
        "id": "IKZBkx2y-8C1"
      },
      "source": [
        "# Decision Tree model on TF-IDF features\n",
        "\n",
        "# train model\n",
        "dtc.fit(tv_train_features, train_category)\n",
        "\n",
        "# predict on test data\n",
        "dtc_tfidf_predictions = dtc.predict(tv_test_features)"
      ],
      "execution_count": null,
      "outputs": []
    },
    {
      "cell_type": "code",
      "metadata": {
        "id": "OOQr2zz0_XOJ",
        "outputId": "d436f4bf-c23c-4029-b727-d95ef8865479",
        "colab": {
          "base_uri": "https://localhost:8080/",
          "height": 92
        }
      },
      "source": [
        "get_metrics(true_labels=test_category, predicted_labels=dtc_tfidf_predictions)"
      ],
      "execution_count": null,
      "outputs": [
        {
          "output_type": "stream",
          "text": [
            "Accuracy: 0.7759\n",
            "Precision: 0.7986\n",
            "Recall: 0.7759\n",
            "F1 Score: 0.7746\n"
          ],
          "name": "stdout"
        }
      ]
    },
    {
      "cell_type": "code",
      "metadata": {
        "id": "XSt1ezSS_XEo",
        "outputId": "6d55daa8-5967-4f4a-b5fa-8f23170552e8",
        "colab": {
          "base_uri": "https://localhost:8080/",
          "height": 242
        }
      },
      "source": [
        "display_classification_report(true_labels=test_category, predicted_labels=dtc_tfidf_predictions,\n",
        "                                      classes=['entertainment', 'business', 'sport', 'tech', 'politics'])"
      ],
      "execution_count": null,
      "outputs": [
        {
          "output_type": "stream",
          "text": [
            "               precision    recall  f1-score   support\n",
            "\n",
            "entertainment       0.88      0.60      0.72       106\n",
            "     business       0.65      0.89      0.75       147\n",
            "        sport       0.77      0.86      0.81       157\n",
            "         tech       0.88      0.64      0.74       126\n",
            "     politics       0.87      0.81      0.84       129\n",
            "\n",
            "     accuracy                           0.78       665\n",
            "    macro avg       0.81      0.76      0.77       665\n",
            " weighted avg       0.80      0.78      0.77       665\n",
            "\n"
          ],
          "name": "stdout"
        }
      ]
    },
    {
      "cell_type": "markdown",
      "metadata": {
        "id": "I7cFdWpZdJhj"
      },
      "source": [
        "#Stacking Classifiers"
      ]
    },
    {
      "cell_type": "code",
      "metadata": {
        "id": "a4U8l9Rskf-5"
      },
      "source": [
        "import warnings\n",
        "warnings.filterwarnings('ignore')"
      ],
      "execution_count": null,
      "outputs": []
    },
    {
      "cell_type": "code",
      "metadata": {
        "id": "noM_dMaN85of"
      },
      "source": [
        "# Stacking models for best result\n",
        "from mlxtend.classifier import StackingClassifier\n",
        "from sklearn.linear_model import LogisticRegression\n",
        "from sklearn import model_selection\n",
        "\n",
        "# Meta Classifier\n",
        "lr = LogisticRegression()\n",
        "\n",
        "# Stacking Classifier\n",
        "clf1 = RandomForestClassifier(random_state=1)\n",
        "clf2 = SVC(random_state=2)\n",
        "clf3 = GaussianNB()\n",
        "lr = LogisticRegression()\n",
        "sclf = StackingClassifier(classifiers=[clf1, clf2, clf3], \n",
        "                          meta_classifier=lr)"
      ],
      "execution_count": null,
      "outputs": []
    },
    {
      "cell_type": "code",
      "metadata": {
        "id": "53g0xUGJgLkp",
        "outputId": "3e657abf-dbcb-4fa9-c991-c52e16ffa9ff",
        "colab": {
          "base_uri": "https://localhost:8080/",
          "height": 129
        }
      },
      "source": [
        "# Classifier Output for BOW features\n",
        "print('3-fold cross validation:\\n')\n",
        "\n",
        "for clf, label in zip([clf1, clf2, clf3, sclf],\n",
        "                      ['Random Forest',\n",
        "                       'SVM',\n",
        "                       'Naive Bayes',\n",
        "                       'Stacking Classifier']):\n",
        "  scores = model_selection.cross_val_score(clf, cv_train_features.toarray(), train_category,\n",
        "                                           cv=3, scoring='accuracy')\n",
        "  print(\"Accuracy: %0.2f (+/- %0.2f) [%s]\" \n",
        "          % (scores.mean(), scores.std(), label))"
      ],
      "execution_count": null,
      "outputs": [
        {
          "output_type": "stream",
          "text": [
            "3-fold cross validation:\n",
            "\n",
            "Accuracy: 0.95 (+/- 0.01) [Random Forest]\n",
            "Accuracy: 0.95 (+/- 0.00) [SVM]\n",
            "Accuracy: 0.93 (+/- 0.00) [Naive Bayes]\n",
            "Accuracy: nan (+/- nan) [Stacking Classifier]\n"
          ],
          "name": "stdout"
        }
      ]
    },
    {
      "cell_type": "code",
      "metadata": {
        "id": "cfPjKJGsjXih",
        "outputId": "f7904e9e-582b-4649-cdf6-40ebb598cdb4",
        "colab": {
          "base_uri": "https://localhost:8080/",
          "height": 129
        }
      },
      "source": [
        "# Classifier Output for TF-IDF features\n",
        "print('3-fold cross validation:\\n')\n",
        "\n",
        "for clf, label in zip([clf1, clf2, clf3, sclf],\n",
        "                      ['Random Forest',\n",
        "                       'SVM',\n",
        "                       'Naive Bayes',\n",
        "                       'Stacking Classifier']):\n",
        "  scores = model_selection.cross_val_score(clf, tv_train_features.toarray(), train_category,\n",
        "                                           cv=3, scoring='accuracy')\n",
        "  print(\"Accuracy: %0.2f (+/- %0.2f) [%s]\" \n",
        "          % (scores.mean(), scores.std(), label))"
      ],
      "execution_count": null,
      "outputs": [
        {
          "output_type": "stream",
          "text": [
            "3-fold cross validation:\n",
            "\n",
            "Accuracy: 0.96 (+/- 0.01) [Random Forest]\n",
            "Accuracy: 0.98 (+/- 0.01) [SVM]\n",
            "Accuracy: 0.95 (+/- 0.01) [Naive Bayes]\n",
            "Accuracy: nan (+/- nan) [Stacking Classifier]\n"
          ],
          "name": "stdout"
        }
      ]
    }
  ]
}