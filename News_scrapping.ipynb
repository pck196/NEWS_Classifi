{
 "cells": [
  {
   "cell_type": "code",
   "execution_count": 1,
   "metadata": {},
   "outputs": [],
   "source": [
    "import requests\n",
    "from bs4 import BeautifulSoup\n",
    "import pandas as pd"
   ]
  },
  {
   "cell_type": "code",
   "execution_count": 2,
   "metadata": {},
   "outputs": [],
   "source": [
    "seed_urls = ['https://inshorts.com/en/read/technology',\n",
    "             'https://inshorts.com/en/read/sports',\n",
    "             'https://inshorts.com/en/read/politics',\n",
    "             'https://inshorts.com/en/read/business',\n",
    "             'https://inshorts.com/en/read/entertainment']\n",
    "\n",
    "def build_dataset(seed_urls):\n",
    "    news_data = []\n",
    "    for url in seed_urls:\n",
    "        news_category = url.split('/')[-1]\n",
    "        data = requests.get(url)\n",
    "        soup = BeautifulSoup(data.content, 'html.parser')\n",
    "        \n",
    "        news_articles = [{'news_headline': headline.find('span', \n",
    "                                                         attrs={\"itemprop\": \"headline\"}).string,\n",
    "                          'news_article': article.find('div', \n",
    "                                                       attrs={\"itemprop\": \"articleBody\"}).string,\n",
    "                          'news_category': news_category}\n",
    "                         \n",
    "                            for headline, article in \n",
    "                             zip(soup.find_all('div', \n",
    "                                               class_=[\"news-card-title news-right-box\"]),\n",
    "                                 soup.find_all('div', \n",
    "                                               class_=[\"news-card-content news-right-box\"]))\n",
    "                        ]\n",
    "        news_data.extend(news_articles)\n",
    "        \n",
    "    df =  pd.DataFrame(news_data)\n",
    "    df = df[['news_headline', 'news_article', 'news_category']]\n",
    "    return df"
   ]
  },
  {
   "cell_type": "code",
   "execution_count": 3,
   "metadata": {},
   "outputs": [
    {
     "data": {
      "text/html": [
       "<div>\n",
       "<style scoped>\n",
       "    .dataframe tbody tr th:only-of-type {\n",
       "        vertical-align: middle;\n",
       "    }\n",
       "\n",
       "    .dataframe tbody tr th {\n",
       "        vertical-align: top;\n",
       "    }\n",
       "\n",
       "    .dataframe thead th {\n",
       "        text-align: right;\n",
       "    }\n",
       "</style>\n",
       "<table border=\"1\" class=\"dataframe\">\n",
       "  <thead>\n",
       "    <tr style=\"text-align: right;\">\n",
       "      <th></th>\n",
       "      <th>news_headline</th>\n",
       "      <th>news_article</th>\n",
       "      <th>news_category</th>\n",
       "    </tr>\n",
       "  </thead>\n",
       "  <tbody>\n",
       "    <tr>\n",
       "      <th>0</th>\n",
       "      <td>OPPO announces to launch short film &amp; limited ...</td>\n",
       "      <td>OPPO has launched a new campaign 'Be the Light...</td>\n",
       "      <td>technology</td>\n",
       "    </tr>\n",
       "    <tr>\n",
       "      <th>1</th>\n",
       "      <td>POCO announces discount on performance smartph...</td>\n",
       "      <td>POCO has announced to offer phones at discount...</td>\n",
       "      <td>technology</td>\n",
       "    </tr>\n",
       "    <tr>\n",
       "      <th>2</th>\n",
       "      <td>Redmi launches #DiwaliWithMi campaign featurin...</td>\n",
       "      <td>Baba Sehgal, known for his Hindi rap songs, st...</td>\n",
       "      <td>technology</td>\n",
       "    </tr>\n",
       "    <tr>\n",
       "      <th>3</th>\n",
       "      <td>31-year-old OnePlus Co-founder Carl Pei leaves...</td>\n",
       "      <td>Chinese-born Swedish entrepreneur Carl Pei, wh...</td>\n",
       "      <td>technology</td>\n",
       "    </tr>\n",
       "    <tr>\n",
       "      <th>4</th>\n",
       "      <td>Nokia gets $14.1 mn NASA funding to bring 4G t...</td>\n",
       "      <td>US' space exploration agency NASA said it will...</td>\n",
       "      <td>technology</td>\n",
       "    </tr>\n",
       "    <tr>\n",
       "      <th>5</th>\n",
       "      <td>Microsoft mergers &amp; acquisitions global chief ...</td>\n",
       "      <td>Microsoft's Global Head of Mergers and Acquisi...</td>\n",
       "      <td>technology</td>\n",
       "    </tr>\n",
       "    <tr>\n",
       "      <th>6</th>\n",
       "      <td>Amazon, Flipkart get notices for not showing '...</td>\n",
       "      <td>The government has issued notices to Amazon an...</td>\n",
       "      <td>technology</td>\n",
       "    </tr>\n",
       "    <tr>\n",
       "      <th>7</th>\n",
       "      <td>Trump's campaign account on Twitter locked bri...</td>\n",
       "      <td>The official Twitter account for Donald Trump'...</td>\n",
       "      <td>technology</td>\n",
       "    </tr>\n",
       "    <tr>\n",
       "      <th>8</th>\n",
       "      <td>Instagram agrees to tackle hidden advertising ...</td>\n",
       "      <td>Instagram has committed to tackling hidden adv...</td>\n",
       "      <td>technology</td>\n",
       "    </tr>\n",
       "    <tr>\n",
       "      <th>9</th>\n",
       "      <td>Google says it mitigated largest known DDoS at...</td>\n",
       "      <td>Google has revealed a previously undisclosed D...</td>\n",
       "      <td>technology</td>\n",
       "    </tr>\n",
       "  </tbody>\n",
       "</table>\n",
       "</div>"
      ],
      "text/plain": [
       "                                       news_headline  \\\n",
       "0  OPPO announces to launch short film & limited ...   \n",
       "1  POCO announces discount on performance smartph...   \n",
       "2  Redmi launches #DiwaliWithMi campaign featurin...   \n",
       "3  31-year-old OnePlus Co-founder Carl Pei leaves...   \n",
       "4  Nokia gets $14.1 mn NASA funding to bring 4G t...   \n",
       "5  Microsoft mergers & acquisitions global chief ...   \n",
       "6  Amazon, Flipkart get notices for not showing '...   \n",
       "7  Trump's campaign account on Twitter locked bri...   \n",
       "8  Instagram agrees to tackle hidden advertising ...   \n",
       "9  Google says it mitigated largest known DDoS at...   \n",
       "\n",
       "                                        news_article news_category  \n",
       "0  OPPO has launched a new campaign 'Be the Light...    technology  \n",
       "1  POCO has announced to offer phones at discount...    technology  \n",
       "2  Baba Sehgal, known for his Hindi rap songs, st...    technology  \n",
       "3  Chinese-born Swedish entrepreneur Carl Pei, wh...    technology  \n",
       "4  US' space exploration agency NASA said it will...    technology  \n",
       "5  Microsoft's Global Head of Mergers and Acquisi...    technology  \n",
       "6  The government has issued notices to Amazon an...    technology  \n",
       "7  The official Twitter account for Donald Trump'...    technology  \n",
       "8  Instagram has committed to tackling hidden adv...    technology  \n",
       "9  Google has revealed a previously undisclosed D...    technology  "
      ]
     },
     "execution_count": 3,
     "metadata": {},
     "output_type": "execute_result"
    }
   ],
   "source": [
    "news_df = build_dataset(seed_urls)\n",
    "news_df.head(10)"
   ]
  },
  {
   "cell_type": "code",
   "execution_count": 4,
   "metadata": {},
   "outputs": [
    {
     "data": {
      "text/plain": [
       "(124, 3)"
      ]
     },
     "execution_count": 4,
     "metadata": {},
     "output_type": "execute_result"
    }
   ],
   "source": [
    "news_df.shape"
   ]
  }
 ],
 "metadata": {
  "kernelspec": {
   "display_name": "Python 3",
   "language": "python",
   "name": "python3"
  },
  "language_info": {
   "codemirror_mode": {
    "name": "ipython",
    "version": 3
   },
   "file_extension": ".py",
   "mimetype": "text/x-python",
   "name": "python",
   "nbconvert_exporter": "python",
   "pygments_lexer": "ipython3",
   "version": "3.7.6"
  }
 },
 "nbformat": 4,
 "nbformat_minor": 4
}
